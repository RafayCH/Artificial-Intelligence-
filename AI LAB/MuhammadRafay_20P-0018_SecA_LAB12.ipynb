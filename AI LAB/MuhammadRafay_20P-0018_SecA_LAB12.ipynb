{
 "cells": [
  {
   "attachments": {},
   "cell_type": "markdown",
   "metadata": {},
   "source": [
    "## LAB 12\n"
   ]
  },
  {
   "attachments": {},
   "cell_type": "markdown",
   "metadata": {},
   "source": [
    "Defining Constants\n"
   ]
  },
  {
   "cell_type": "code",
   "execution_count": 2,
   "metadata": {},
   "outputs": [],
   "source": [
    "import random\n",
    "\n",
    "\n",
    "POPULATION_SIZE = 100\n",
    "CHROMOSOME_LENGTH = 16\n",
    "MUTATION_PROBABILITY = 0.1\n",
    "MAX_ITERATIONS = 1000"
   ]
  },
  {
   "attachments": {},
   "cell_type": "markdown",
   "metadata": {},
   "source": [
    "Setting Initial and Goal State"
   ]
  },
  {
   "cell_type": "code",
   "execution_count": 3,
   "metadata": {},
   "outputs": [],
   "source": [
    "initial_state = [0] * CHROMOSOME_LENGTH\n",
    "goal_state = [1] * CHROMOSOME_LENGTH"
   ]
  },
  {
   "attachments": {},
   "cell_type": "markdown",
   "metadata": {},
   "source": [
    "Defining Fitness and Selection(roulette wheel selection) Function"
   ]
  },
  {
   "cell_type": "code",
   "execution_count": 4,
   "metadata": {},
   "outputs": [],
   "source": [
    "def fitness_function(chromosome):\n",
    "    return sum(chromosome)\n",
    "\n",
    "def selection(population):\n",
    "    fitness_sum = sum(fitness_function(chromosome) for chromosome in population)\n",
    "    if fitness_sum == 0:\n",
    "        return random.sample(population, k=2)\n",
    "    selection_probabilities = [fitness_function(chromosome) / fitness_sum for chromosome in population]\n",
    "    return random.choices(population, weights=selection_probabilities, k=2)"
   ]
  },
  {
   "attachments": {},
   "cell_type": "markdown",
   "metadata": {},
   "source": [
    "Defining Crossover function (single-point crossover)"
   ]
  },
  {
   "cell_type": "code",
   "execution_count": 5,
   "metadata": {},
   "outputs": [],
   "source": [
    "def crossover(parent1, parent2):\n",
    "    crossover_point = random.randint(1, CHROMOSOME_LENGTH - 1)\n",
    "    child1 = parent1[:crossover_point] + parent2[crossover_point:]\n",
    "    child2 = parent2[:crossover_point] + parent1[crossover_point:]\n",
    "    return child1, child2\n"
   ]
  },
  {
   "attachments": {},
   "cell_type": "markdown",
   "metadata": {},
   "source": [
    "Muatation Function\n"
   ]
  },
  {
   "cell_type": "code",
   "execution_count": 6,
   "metadata": {},
   "outputs": [],
   "source": [
    "def mutation(chromosome):\n",
    "    mutated_chromosome = chromosome[:]\n",
    "    for i in range(CHROMOSOME_LENGTH):\n",
    "        if random.random() < MUTATION_PROBABILITY:\n",
    "            mutated_chromosome[i] = 1 - mutated_chromosome[i]\n",
    "    return mutated_chromosome"
   ]
  },
  {
   "cell_type": "code",
   "execution_count": 7,
   "metadata": {},
   "outputs": [],
   "source": [
    "population = [initial_state[:] for i in range(POPULATION_SIZE)]\n",
    "\n",
    "best_fitness = 0\n"
   ]
  },
  {
   "attachments": {},
   "cell_type": "markdown",
   "metadata": {},
   "source": [
    "Main Loop"
   ]
  },
  {
   "cell_type": "code",
   "execution_count": 8,
   "metadata": {},
   "outputs": [
    {
     "name": "stdout",
     "output_type": "stream",
     "text": [
      "Solution found after 302 iterations\n",
      "Solution: [1, 1, 1, 1, 1, 1, 1, 1, 1, 1, 1, 1, 1, 1, 1, 1]\n",
      "BEST FITNESS : 16\n"
     ]
    }
   ],
   "source": [
    "for i in range(MAX_ITERATIONS):\n",
    "    # Select two parents\n",
    "    parent1, parent2 = selection(population)\n",
    "    \n",
    "    # Create two children \n",
    "    child1, child2 = crossover(parent1, parent2)\n",
    "    \n",
    "    child1 = mutation(child1)\n",
    "    child2 = mutation(child2)\n",
    "    \n",
    "    # Fitness values of the children\n",
    "    child1_fitness = fitness_function(child1)\n",
    "    child2_fitness = fitness_function(child2)\n",
    "    \n",
    "    # Check if either child is the goal state\n",
    "    if child1 == goal_state or child2 == goal_state:\n",
    "        print(\"Solution found after\", i+1, \"iterations\")\n",
    "        if child1 == goal_state:\n",
    "            print(\"Solution:\", child1)\n",
    "            best_fitness = child1_fitness\n",
    "        else:\n",
    "            print(\"Solution:\", child2)\n",
    "            best_fitness = child2_fitness\n",
    "        break\n",
    "\n",
    "\n",
    "    if child1_fitness > best_fitness:\n",
    "        best_fitness = child1_fitness\n",
    "    if child2_fitness > best_fitness:\n",
    "        best_fitness = child2_fitness\n",
    "\n",
    "    \n",
    "    # Replacing the least fit members of the population with the new children\n",
    "    population.sort(key=fitness_function, reverse=True)\n",
    "    population[-2], population[-1] = child1, child2\n",
    "    \n",
    "# If no solution is found after the maximum number of iterations, print a message\n",
    "else:\n",
    "    print(\"No solution found after\", MAX_ITERATIONS, \"iterations\")\n",
    "\n",
    "print(\"BEST FITNESS :\",best_fitness)"
   ]
  },
  {
   "cell_type": "code",
   "execution_count": null,
   "metadata": {},
   "outputs": [],
   "source": []
  }
 ],
 "metadata": {
  "kernelspec": {
   "display_name": "base",
   "language": "python",
   "name": "python3"
  },
  "language_info": {
   "codemirror_mode": {
    "name": "ipython",
    "version": 3
   },
   "file_extension": ".py",
   "mimetype": "text/x-python",
   "name": "python",
   "nbconvert_exporter": "python",
   "pygments_lexer": "ipython3",
   "version": "3.9.13"
  },
  "orig_nbformat": 4
 },
 "nbformat": 4,
 "nbformat_minor": 2
}
