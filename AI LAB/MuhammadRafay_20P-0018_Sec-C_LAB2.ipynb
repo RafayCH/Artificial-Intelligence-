{
 "cells": [
  {
   "attachments": {},
   "cell_type": "markdown",
   "metadata": {},
   "source": [
    "# Task 1"
   ]
  },
  {
   "cell_type": "code",
   "execution_count": 2,
   "metadata": {},
   "outputs": [
    {
     "name": "stdout",
     "output_type": "stream",
     "text": [
      "{'Smoke_Detect': '1', 'Temp_Detect': '55', 'Alarm': '0', 'Sprinkler': '0'}\n",
      "--------Smoke Detected------\n",
      "--------High Temperature------\n",
      "Making a call to Fire Department...\n",
      "{'Smoke_Detect': '1', 'Temp_Detect': '55', 'Alarm': '1', 'Sprinkler': '1'}\n"
     ]
    }
   ],
   "source": [
    "def fireAlarm_system():\n",
    "\n",
    "    Sensor1 = input(\"Sensor1 Type : \")   #Smoke_Detector\n",
    "    status_sensor1 = input(f\"Set Status for {Sensor1} (0/1) : \")\n",
    "    \n",
    "    Sensor2 = input(\"Sensor2 Type : \")  #Temp_Detector\n",
    "    status_sensor2 = input(f\"Set Status for {Sensor2} in (C) : \")\n",
    "\n",
    "    Alarm_system = 'Alarm'\n",
    "    Alarm_status = '0'\n",
    "\n",
    "    Sprinkler_system = 'Sprinkler'\n",
    "    Sprinkler_status = '0'\n",
    "\n",
    "    call = \"Making a call to Fire Department...\"\n",
    "\n",
    "\n",
    "\n",
    "    goal_state = {Sensor1          : status_sensor1,\n",
    "                  Sensor2          : status_sensor2,\n",
    "                  Alarm_system     : Alarm_status,\n",
    "                  Sprinkler_system : Sprinkler_status}\n",
    "\n",
    "    print(goal_state)\n",
    "\n",
    "\n",
    "    if status_sensor1 == '0' and status_sensor2 < '52':\n",
    "        print(\"Everthing is okay!!!\")\n",
    "        print(goal_state)\n",
    "\n",
    "    elif status_sensor1 == '1' and status_sensor2 < '52':\n",
    "        print(\"--------Smoke Detected------\")\n",
    "        goal_state[Alarm_system] = '1'\n",
    "        goal_state[Sprinkler_system] = '1'\n",
    "        print(goal_state)\n",
    "\n",
    "    elif status_sensor1 == '0' and status_sensor2 > '52':\n",
    "        print(\"--------High Temperature------\")\n",
    "        goal_state[Alarm_system] = '1'\n",
    "        print(call)\n",
    "        print(goal_state)\n",
    "\n",
    "    elif status_sensor1 == '1' and status_sensor2 > '52':\n",
    "        print(\"--------Smoke Detected------\")\n",
    "        print(\"--------High Temperature------\")\n",
    "\n",
    "        goal_state[Alarm_system] = '1'\n",
    "        goal_state[Sprinkler_system] = '1'\n",
    "        print(call)\n",
    "\n",
    "        print(goal_state)\n",
    "\n",
    "\n",
    "\n",
    "fireAlarm_system()"
   ]
  },
  {
   "attachments": {},
   "cell_type": "markdown",
   "metadata": {},
   "source": [
    "# Task 2\n"
   ]
  },
  {
   "cell_type": "code",
   "execution_count": 2,
   "metadata": {},
   "outputs": [
    {
     "name": "stdout",
     "output_type": "stream",
     "text": [
      "Moist Level :  5\n",
      "Start Watering\n",
      "Moist Level After some time  10\n",
      "Moist Level After some time  15\n",
      "Moist Level After some time  20\n",
      "Moist Level After some time  25\n",
      "Moist Level :  25\n",
      "Moist Soil Now\n",
      "Stop Watering...\n"
     ]
    }
   ],
   "source": [
    "def watering_system():\n",
    "\n",
    "    moisture_level = int(input(\"Moister Level = \"))\n",
    "    print(\"Moist Level : \",moisture_level)\n",
    "    soil_type = \"\"\n",
    "\n",
    "\n",
    "    if moisture_level > 0 and moisture_level <= 20 :\n",
    "        soil_type = \"Dry Soil\"\n",
    "\n",
    "    elif moisture_level > 21 and moisture_level <= 45 :\n",
    "        soil_type = \"Moist Soil\"\n",
    "    \n",
    "    elif moisture_level > 46 :\n",
    "        soil_type = \"Wet Soil\"\n",
    "\n",
    "    \n",
    "    if soil_type == \"Wet Soil\":\n",
    "        print(\"\"\"Do Nothing...\n",
    "                 Soil Already Wet\"\"\")\n",
    "\n",
    "    elif soil_type == \"Moist Soil\":\n",
    "        \n",
    "        print(\"Moist Level : \",moisture_level)\n",
    "        print(\"Soil already moist\")\n",
    "        print(\"Remain Off\")\n",
    "        \n",
    "    \n",
    "    elif soil_type == \"Dry Soil\":\n",
    "\n",
    "        print(\"Start Watering\")\n",
    "        while(moisture_level <=21):\n",
    "            #after some time increasing moisture level\n",
    "\n",
    "            moisture_level += 5\n",
    "            print(\"Moist Level After some time \",moisture_level)\n",
    "        \n",
    "        soil_type = \"Moist Soil\"\n",
    "        print(\"Moist Level : \",moisture_level)\n",
    "        print(f\"{soil_type} Now\")\n",
    "        print(\"Stop Watering...\")\n",
    "\n",
    "\n",
    "watering_system()"
   ]
  },
  {
   "cell_type": "code",
   "execution_count": null,
   "metadata": {},
   "outputs": [],
   "source": []
  }
 ],
 "metadata": {
  "kernelspec": {
   "display_name": "Python 3",
   "language": "python",
   "name": "python3"
  },
  "language_info": {
   "codemirror_mode": {
    "name": "ipython",
    "version": 3
   },
   "file_extension": ".py",
   "mimetype": "text/x-python",
   "name": "python",
   "nbconvert_exporter": "python",
   "pygments_lexer": "ipython3",
   "version": "3.11.2"
  },
  "orig_nbformat": 4,
  "vscode": {
   "interpreter": {
    "hash": "1915e5a2f98d7fc59196f3d35abafb3bccd536da6b8b00af82fb62fc4625157a"
   }
  }
 },
 "nbformat": 4,
 "nbformat_minor": 2
}
