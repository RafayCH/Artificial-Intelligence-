{
 "cells": [
  {
   "attachments": {},
   "cell_type": "markdown",
   "metadata": {},
   "source": [
    "### 20P-0018\n",
    "### Muhammad Rafay\n",
    "###                    Assignment 2"
   ]
  },
  {
   "cell_type": "code",
   "execution_count": 6,
   "metadata": {},
   "outputs": [
    {
     "name": "stdout",
     "output_type": "stream",
     "text": [
      "john11doe@gmail.com         True\n",
      "jane-doe@hotmail.com        True\n",
      "test.user@live.com          True\n",
      "user123@yahoo.com           True\n",
      "invalid_email@gmail.com     False\n",
      "john@domain.net             False\n",
      "user_name@gmail.com         False\n",
      "user@domain.com             False\n"
     ]
    }
   ],
   "source": [
    "import re\n",
    "\n",
    "def validate_email(email):\n",
    "    pattern = r'^[a-zA-Z0-9.-]+@(?:gmail|hotmail|live|yahoo)\\.com$'  # regular expression\n",
    "    return re.match(pattern, email) is not None\n",
    "\n",
    "print(\"john11doe@gmail.com\", \"       \", (validate_email(\"john11doe@gmail.com\")))\n",
    "\n",
    "print(\"jane-doe@hotmail.com\", \"      \", (validate_email(\"jane-doe@hotmail.com\")))\n",
    "\n",
    "print(\"test.user@live.com\", \"        \", (validate_email(\"test.user@live.com\")))\n",
    "\n",
    "print(\"user123@yahoo.com\", \"         \", (validate_email(\"user123@yahoo.com\")))\n",
    "\n",
    "print(\"invalid_email@gmail.com\", \"   \", (validate_email(\"invalid_email@gmail.com\")))\n",
    "\n",
    "print(\"john@domain.net\", \"           \", (validate_email(\"john@domain.net\")))\n",
    "\n",
    "print(\"user_name@gmail.com\", \"       \", (validate_email(\"user_name@gmail.com\")))  # Invalid (invalid character in userID)\n",
    "\n",
    "print(\"user@domain.com\", \"           \", (validate_email(\"user@domain.com\")))   # Invalid (unsupported domain)\n",
    "\n",
    "  "
   ]
  },
  {
   "cell_type": "code",
   "execution_count": null,
   "metadata": {},
   "outputs": [],
   "source": []
  }
 ],
 "metadata": {
  "kernelspec": {
   "display_name": "base",
   "language": "python",
   "name": "python3"
  },
  "language_info": {
   "codemirror_mode": {
    "name": "ipython",
    "version": 3
   },
   "file_extension": ".py",
   "mimetype": "text/x-python",
   "name": "python",
   "nbconvert_exporter": "python",
   "pygments_lexer": "ipython3",
   "version": "3.9.13"
  },
  "orig_nbformat": 4
 },
 "nbformat": 4,
 "nbformat_minor": 2
}
